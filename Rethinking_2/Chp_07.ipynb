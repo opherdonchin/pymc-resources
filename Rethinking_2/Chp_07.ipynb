{
 "cells": [
  {
   "cell_type": "markdown",
   "metadata": {},
   "source": [
    "# Chapter 7"
   ]
  },
  {
   "cell_type": "code",
   "execution_count": 1,
   "metadata": {},
   "outputs": [],
   "source": [
    "import logging\n",
    "\n",
    "import arviz as az\n",
    "import matplotlib.pyplot as plt\n",
    "import numpy as np\n",
    "import pandas as pd\n",
    "import pymc as pm\n",
    "import statsmodels.api as sm\n",
    "import statsmodels.formula.api as smf\n",
    "import tqdm\n",
    "\n",
    "from pytensor import shared\n",
    "from patsy import dmatrix\n",
    "from scipy import stats\n",
    "from scipy.special import logsumexp"
   ]
  },
  {
   "cell_type": "code",
   "execution_count": 2,
   "metadata": {},
   "outputs": [
    {
     "name": "stderr",
     "output_type": "stream",
     "text": [
      "c:\\Users\\User\\.conda\\envs\\my_bap3\\Lib\\site-packages\\arviz\\rcparams.py:345: FutureWarning: stats.hdi_prob is deprecated since 0.18.0, use stats.ci_prob instead\n",
      "  warnings.warn(\n"
     ]
    }
   ],
   "source": [
    "%config Inline.figure_format = 'retina'\n",
    "az.style.use(\"arviz-darkgrid\")\n",
    "az.rcParams[\"stats.hdi_prob\"] = 0.89  # set credible interval for entire notebook\n",
    "np.random.seed(0)"
   ]
  },
  {
   "cell_type": "markdown",
   "metadata": {},
   "source": [
    "#### Code 7.1"
   ]
  },
  {
   "cell_type": "code",
   "execution_count": 3,
   "metadata": {},
   "outputs": [
    {
     "data": {
      "text/html": [
       "<div>\n",
       "<style scoped>\n",
       "    .dataframe tbody tr th:only-of-type {\n",
       "        vertical-align: middle;\n",
       "    }\n",
       "\n",
       "    .dataframe tbody tr th {\n",
       "        vertical-align: top;\n",
       "    }\n",
       "\n",
       "    .dataframe thead th {\n",
       "        text-align: right;\n",
       "    }\n",
       "</style>\n",
       "<table border=\"1\" class=\"dataframe\">\n",
       "  <thead>\n",
       "    <tr style=\"text-align: right;\">\n",
       "      <th></th>\n",
       "      <th>species</th>\n",
       "      <th>brain</th>\n",
       "      <th>mass</th>\n",
       "    </tr>\n",
       "  </thead>\n",
       "  <tbody>\n",
       "    <tr>\n",
       "      <th>0</th>\n",
       "      <td>afarensis</td>\n",
       "      <td>438</td>\n",
       "      <td>37.0</td>\n",
       "    </tr>\n",
       "    <tr>\n",
       "      <th>1</th>\n",
       "      <td>africanus</td>\n",
       "      <td>452</td>\n",
       "      <td>35.5</td>\n",
       "    </tr>\n",
       "    <tr>\n",
       "      <th>2</th>\n",
       "      <td>habilis</td>\n",
       "      <td>612</td>\n",
       "      <td>34.5</td>\n",
       "    </tr>\n",
       "    <tr>\n",
       "      <th>3</th>\n",
       "      <td>boisei</td>\n",
       "      <td>521</td>\n",
       "      <td>41.5</td>\n",
       "    </tr>\n",
       "    <tr>\n",
       "      <th>4</th>\n",
       "      <td>rudolfensis</td>\n",
       "      <td>752</td>\n",
       "      <td>55.5</td>\n",
       "    </tr>\n",
       "    <tr>\n",
       "      <th>5</th>\n",
       "      <td>ergaster</td>\n",
       "      <td>871</td>\n",
       "      <td>61.0</td>\n",
       "    </tr>\n",
       "    <tr>\n",
       "      <th>6</th>\n",
       "      <td>sapiens</td>\n",
       "      <td>1350</td>\n",
       "      <td>53.5</td>\n",
       "    </tr>\n",
       "  </tbody>\n",
       "</table>\n",
       "</div>"
      ],
      "text/plain": [
       "       species  brain  mass\n",
       "0    afarensis    438  37.0\n",
       "1    africanus    452  35.5\n",
       "2      habilis    612  34.5\n",
       "3       boisei    521  41.5\n",
       "4  rudolfensis    752  55.5\n",
       "5     ergaster    871  61.0\n",
       "6      sapiens   1350  53.5"
      ]
     },
     "execution_count": 3,
     "metadata": {},
     "output_type": "execute_result"
    }
   ],
   "source": [
    "brains = pd.DataFrame.from_dict(\n",
    "    {\n",
    "        \"species\": [\n",
    "            \"afarensis\",\n",
    "            \"africanus\",\n",
    "            \"habilis\",\n",
    "            \"boisei\",\n",
    "            \"rudolfensis\",\n",
    "            \"ergaster\",\n",
    "            \"sapiens\",\n",
    "        ],\n",
    "        \"brain\": [438, 452, 612, 521, 752, 871, 1350],  # volume in cc\n",
    "        \"mass\": [37.0, 35.5, 34.5, 41.5, 55.5, 61.0, 53.5],  # mass in kg\n",
    "    }\n",
    ")\n",
    "\n",
    "brains"
   ]
  },
  {
   "cell_type": "code",
   "execution_count": 4,
   "metadata": {},
   "outputs": [
    {
     "data": {
      "image/png": "[encoded data removed]",
      "text/plain": [
       "<Figure size 720x480 with 1 Axes>"
      ]
     },
     "metadata": {},
     "output_type": "display_data"
    }
   ],
   "source": [
    "# Figure 7.2\n",
    "\n",
    "plt.scatter(brains.mass, brains.brain)\n",
    "\n",
    "# point labels\n",
    "for i, r in brains.iterrows():\n",
    "    if r.species == \"afarensis\":\n",
    "        plt.text(r.mass + 0.5, r.brain, r.species, ha=\"left\", va=\"center\")\n",
    "    elif r.species == \"sapiens\":\n",
    "        plt.text(r.mass, r.brain - 25, r.species, ha=\"center\", va=\"top\")\n",
    "    else:\n",
    "        plt.text(r.mass, r.brain + 25, r.species, ha=\"center\")\n",
    "\n",
    "plt.xlabel(\"body mass (kg)\")\n",
    "plt.ylabel(\"brain volume (cc)\");"
   ]
  },
  {
   "cell_type": "markdown",
   "metadata": {},
   "source": [
    "#### Code 7.2"
   ]
  },
  {
   "cell_type": "code",
   "execution_count": 5,
   "metadata": {},
   "outputs": [],
   "source": [
    "brains.loc[:, \"mass_std\"] = (brains.loc[:, \"mass\"] - brains.loc[:, \"mass\"].mean()) / brains.loc[\n",
    "    :, \"mass\"\n",
    "].std()\n",
    "brains.loc[:, \"brain_std\"] = brains.loc[:, \"brain\"] / brains.loc[:, \"brain\"].max()"
   ]
  },
  {
   "cell_type": "markdown",
   "metadata": {},
   "source": [
    "#### Code 7.3\n",
    "\n",
    "This is modified from [Chapter 6 of 1st Edition](https://nbviewer.jupyter.org/github/pymc-devs/resources/blob/master/Rethinking/Chp_06.ipynb) (6.2 - 6.6)."
   ]
  },
  {
   "cell_type": "code",
   "execution_count": 6,
   "metadata": {},
   "outputs": [
    {
     "name": "stderr",
     "output_type": "stream",
     "text": [
      "c:\\Users\\User\\.conda\\envs\\my_bap3\\Lib\\site-packages\\statsmodels\\stats\\stattools.py:74: ValueWarning: omni_normtest is not valid with less than 8 observations; 7 samples were given.\n",
      "  warn(\"omni_normtest is not valid with less than 8 observations; %i \"\n"
     ]
    },
    {
     "data": {
      "text/html": [
       "<table class=\"simpletable\">\n",
       "<caption>OLS Regression Results</caption>\n",
       "<tr>\n",
       "  <th>Dep. Variable:</th>        <td>brain_std</td>    <th>  R-squared:         </th> <td>   0.490</td>\n",
       "</tr>\n",
       "<tr>\n",
       "  <th>Model:</th>                   <td>OLS</td>       <th>  Adj. R-squared:    </th> <td>   0.388</td>\n",
       "</tr>\n",
       "<tr>\n",
       "  <th>Method:</th>             <td>Least Squares</td>  <th>  F-statistic:       </th> <td>   4.807</td>\n",
       "</tr>\n",
       "<tr>\n",
       "  <th>Date:</th>             <td>Wed, 11 Dec 2024</td> <th>  Prob (F-statistic):</th>  <td>0.0798</td> \n",
       "</tr>\n",
       "<tr>\n",
       "  <th>Time:</th>                 <td>16:51:06</td>     <th>  Log-Likelihood:    </th> <td>  2.9925</td>\n",
       "</tr>\n",
       "<tr>\n",
       "  <th>No. Observations:</th>      <td>     7</td>      <th>  AIC:               </th> <td>  -1.985</td>\n",
       "</tr>\n",
       "<tr>\n",
       "  <th>Df Residuals:</th>          <td>     5</td>      <th>  BIC:               </th> <td>  -2.093</td>\n",
       "</tr>\n",
       "<tr>\n",
       "  <th>Df Model:</th>              <td>     1</td>      <th>                     </th>     <td> </td>   \n",
       "</tr>\n",
       "<tr>\n",
       "  <th>Covariance Type:</th>      <td>nonrobust</td>    <th>                     </th>     <td> </td>   \n",
       "</tr>\n",
       "</table>\n",
       "<table class=\"simpletable\">\n",
       "<tr>\n",
       "      <td></td>         <th>coef</th>     <th>std err</th>      <th>t</th>      <th>P>|t|</th>  <th>[0.025</th>    <th>0.975]</th>  \n",
       "</tr>\n",
       "<tr>\n",
       "  <th>Intercept</th> <td>    0.5287</td> <td>    0.071</td> <td>    7.492</td> <td> 0.001</td> <td>    0.347</td> <td>    0.710</td>\n",
       "</tr>\n",
       "<tr>\n",
       "  <th>mass_std</th>  <td>    0.1671</td> <td>    0.076</td> <td>    2.192</td> <td> 0.080</td> <td>   -0.029</td> <td>    0.363</td>\n",
       "</tr>\n",
       "</table>\n",
       "<table class=\"simpletable\">\n",
       "<tr>\n",
       "  <th>Omnibus:</th>       <td>   nan</td> <th>  Durbin-Watson:     </th> <td>   1.561</td>\n",
       "</tr>\n",
       "<tr>\n",
       "  <th>Prob(Omnibus):</th> <td>   nan</td> <th>  Jarque-Bera (JB):  </th> <td>   2.372</td>\n",
       "</tr>\n",
       "<tr>\n",
       "  <th>Skew:</th>          <td> 1.399</td> <th>  Prob(JB):          </th> <td>   0.305</td>\n",
       "</tr>\n",
       "<tr>\n",
       "  <th>Kurtosis:</th>      <td> 3.548</td> <th>  Cond. No.          </th> <td>    1.08</td>\n",
       "</tr>\n",
       "</table><br/><br/>Notes:<br/>[1] Standard Errors assume that the covariance matrix of the errors is correctly specified."
      ],
      "text/latex": [
       "\\begin{center}\n",
       "\\begin{tabular}{lclc}\n",
       "\\toprule\n",
       "\\textbf{Dep. Variable:}    &    brain\\_std    & \\textbf{  R-squared:         } &     0.490   \\\\\n",
       "\\textbf{Model:}            &       OLS        & \\textbf{  Adj. R-squared:    } &     0.388   \\\\\n",
       "\\textbf{Method:}           &  Least Squares   & \\textbf{  F-statistic:       } &     4.807   \\\\\n",
       "\\textbf{Date:}             & Wed, 11 Dec 2024 & \\textbf{  Prob (F-statistic):} &   0.0798    \\\\\n",
       "\\textbf{Time:}             &     16:51:06     & \\textbf{  Log-Likelihood:    } &    2.9925   \\\\\n",
       "\\textbf{No. Observations:} &           7      & \\textbf{  AIC:               } &    -1.985   \\\\\n",
       "\\textbf{Df Residuals:}     &           5      & \\textbf{  BIC:               } &    -2.093   \\\\\n",
       "\\textbf{Df Model:}         &           1      & \\textbf{                     } &             \\\\\n",
       "\\textbf{Covariance Type:}  &    nonrobust     & \\textbf{                     } &             \\\\\n",
       "\\bottomrule\n",
       "\\end{tabular}\n",
       "\\begin{tabular}{lcccccc}\n",
       "                   & \\textbf{coef} & \\textbf{std err} & \\textbf{t} & \\textbf{P$> |$t$|$} & \\textbf{[0.025} & \\textbf{0.975]}  \\\\\n",
       "\\midrule\n",
       "\\textbf{Intercept} &       0.5287  &        0.071     &     7.492  &         0.001        &        0.347    &        0.710     \\\\\n",
       "\\textbf{mass\\_std} &       0.1671  &        0.076     &     2.192  &         0.080        &       -0.029    &        0.363     \\\\\n",
       "\\bottomrule\n",
       "\\end{tabular}\n",
       "\\begin{tabular}{lclc}\n",
       "\\textbf{Omnibus:}       &    nan & \\textbf{  Durbin-Watson:     } &    1.561  \\\\\n",
       "\\textbf{Prob(Omnibus):} &    nan & \\textbf{  Jarque-Bera (JB):  } &    2.372  \\\\\n",
       "\\textbf{Skew:}          &  1.399 & \\textbf{  Prob(JB):          } &    0.305  \\\\\n",
       "\\textbf{Kurtosis:}      &  3.548 & \\textbf{  Cond. No.          } &     1.08  \\\\\n",
       "\\bottomrule\n",
       "\\end{tabular}\n",
       "%\\caption{OLS Regression Results}\n",
       "\\end{center}\n",
       "\n",
       "Notes: \\newline\n",
       " [1] Standard Errors assume that the covariance matrix of the errors is correctly specified."
      ],
      "text/plain": [
       "<class 'statsmodels.iolib.summary.Summary'>\n",
       "\"\"\"\n",
       "                            OLS Regression Results                            \n",
       "==============================================================================\n",
       "Dep. Variable:              brain_std   R-squared:                       0.490\n",
       "Model:                            OLS   Adj. R-squared:                  0.388\n",
       "Method:                 Least Squares   F-statistic:                     4.807\n",
       "Date:                Wed, 11 Dec 2024   Prob (F-statistic):             0.0798\n",
       "Time:                        16:51:06   Log-Likelihood:                 2.9925\n",
       "No. Observations:                   7   AIC:                            -1.985\n",
       "Df Residuals:                       5   BIC:                            -2.093\n",
       "Df Model:                           1                                         \n",
       "Covariance Type:            nonrobust                                         \n",
       "==============================================================================\n",
       "                 coef    std err          t      P>|t|      [0.025      0.975]\n",
       "------------------------------------------------------------------------------\n",
       "Intercept      0.5287      0.071      7.492      0.001       0.347       0.710\n",
       "mass_std       0.1671      0.076      2.192      0.080      -0.029       0.363\n",
       "==============================================================================\n",
       "Omnibus:                          nan   Durbin-Watson:                   1.561\n",
       "Prob(Omnibus):                    nan   Jarque-Bera (JB):                2.372\n",
       "Skew:                           1.399   Prob(JB):                        0.305\n",
       "Kurtosis:                       3.548   Cond. No.                         1.08\n",
       "==============================================================================\n",
       "\n",
       "Notes:\n",
       "[1] Standard Errors assume that the covariance matrix of the errors is correctly specified.\n",
       "\"\"\""
      ]
     },
     "execution_count": 6,
     "metadata": {},
     "output_type": "execute_result"
    }
   ],
   "source": [
    "m_7_1 = smf.ols(\"brain_std ~ mass_std\", data=brains).fit()\n",
    "m_7_1.summary()"
   ]
  },
  {
   "cell_type": "markdown",
   "metadata": {},
   "source": [
    "#### Code 7.4"
   ]
  },
  {
   "cell_type": "code",
   "execution_count": 7,
   "metadata": {},
   "outputs": [
    {
     "data": {
      "text/html": [
       "<div>\n",
       "<style scoped>\n",
       "    .dataframe tbody tr th:only-of-type {\n",
       "        vertical-align: middle;\n",
       "    }\n",
       "\n",
       "    .dataframe tbody tr th {\n",
       "        vertical-align: top;\n",
       "    }\n",
       "\n",
       "    .dataframe thead th {\n",
       "        text-align: right;\n",
       "    }\n",
       "</style>\n",
       "<table border=\"1\" class=\"dataframe\">\n",
       "  <thead>\n",
       "    <tr style=\"text-align: right;\">\n",
       "      <th></th>\n",
       "      <th>mean</th>\n",
       "      <th>sd</th>\n",
       "      <th>hdi_5.5%</th>\n",
       "      <th>hdi_94.5%</th>\n",
       "    </tr>\n",
       "  </thead>\n",
       "  <tbody>\n",
       "    <tr>\n",
       "      <th>a</th>\n",
       "      <td>0.528</td>\n",
       "      <td>0.069</td>\n",
       "      <td>0.410</td>\n",
       "      <td>0.634</td>\n",
       "    </tr>\n",
       "    <tr>\n",
       "      <th>b</th>\n",
       "      <td>0.169</td>\n",
       "      <td>0.074</td>\n",
       "      <td>0.058</td>\n",
       "      <td>0.294</td>\n",
       "    </tr>\n",
       "  </tbody>\n",
       "</table>\n",
       "</div>"
      ],
      "text/plain": [
       "    mean     sd  hdi_5.5%  hdi_94.5%\n",
       "a  0.528  0.069     0.410      0.634\n",
       "b  0.169  0.074     0.058      0.294"
      ]
     },
     "execution_count": 7,
     "metadata": {},
     "output_type": "execute_result"
    }
   ],
   "source": [
    "p, cov = np.polyfit(brains.loc[:, \"mass_std\"], brains.loc[:, \"brain_std\"], 1, cov=True)\n",
    "\n",
    "post = stats.multivariate_normal(p, cov).rvs(1000)\n",
    "\n",
    "az.summary({k: v for k, v in zip(\"ba\", post.T)}, kind=\"stats\")"
   ]
  },
  {
   "cell_type": "markdown",
   "metadata": {},
   "source": [
    "#### Code 7.5"
   ]
  },
  {
   "cell_type": "code",
   "execution_count": 8,
   "metadata": {},
   "outputs": [
    {
     "data": {
      "text/plain": [
       "0.49015804794908413"
      ]
     },
     "execution_count": 8,
     "metadata": {},
     "output_type": "execute_result"
    }
   ],
   "source": [
    "1 - m_7_1.resid.var() / brains.brain_std.var()"
   ]
  },
  {
   "cell_type": "markdown",
   "metadata": {},
   "source": [
    "#### Code 7.6"
   ]
  },
  {
   "cell_type": "code",
   "execution_count": 9,
   "metadata": {},
   "outputs": [
    {
     "data": {
      "text/plain": [
       "0.49015804794908413"
      ]
     },
     "execution_count": 9,
     "metadata": {},
     "output_type": "execute_result"
    }
   ],
   "source": [
    "def R2_is_bad(model):\n",
    "    return 1 - model.resid.var() / brains.brain_std.var()\n",
    "\n",
    "\n",
    "R2_is_bad(m_7_1)"
   ]
  },
  {
   "cell_type": "markdown",
   "metadata": {},
   "source": [
    "#### Code 7.7"
   ]
  },
  {
   "cell_type": "code",
   "execution_count": 10,
   "metadata": {},
   "outputs": [
    {
     "name": "stderr",
     "output_type": "stream",
     "text": [
      "c:\\Users\\User\\.conda\\envs\\my_bap3\\Lib\\site-packages\\statsmodels\\stats\\stattools.py:74: ValueWarning: omni_normtest is not valid with less than 8 observations; 7 samples were given.\n",
      "  warn(\"omni_normtest is not valid with less than 8 observations; %i \"\n"
     ]
    },
    {
     "data": {
      "text/html": [
       "<table class=\"simpletable\">\n",
       "<caption>OLS Regression Results</caption>\n",
       "<tr>\n",
       "  <th>Dep. Variable:</th>        <td>brain_std</td>    <th>  R-squared:         </th> <td>   0.536</td>\n",
       "</tr>\n",
       "<tr>\n",
       "  <th>Model:</th>                   <td>OLS</td>       <th>  Adj. R-squared:    </th> <td>   0.304</td>\n",
       "</tr>\n",
       "<tr>\n",
       "  <th>Method:</th>             <td>Least Squares</td>  <th>  F-statistic:       </th> <td>   2.310</td>\n",
       "</tr>\n",
       "<tr>\n",
       "  <th>Date:</th>             <td>Wed, 11 Dec 2024</td> <th>  Prob (F-statistic):</th>  <td> 0.215</td> \n",
       "</tr>\n",
       "<tr>\n",
       "  <th>Time:</th>                 <td>16:51:06</td>     <th>  Log-Likelihood:    </th> <td>  3.3223</td>\n",
       "</tr>\n",
       "<tr>\n",
       "  <th>No. Observations:</th>      <td>     7</td>      <th>  AIC:               </th> <td> -0.6445</td>\n",
       "</tr>\n",
       "<tr>\n",
       "  <th>Df Residuals:</th>          <td>     4</td>      <th>  BIC:               </th> <td> -0.8068</td>\n",
       "</tr>\n",
       "<tr>\n",
       "  <th>Df Model:</th>              <td>     2</td>      <th>                     </th>     <td> </td>   \n",
       "</tr>\n",
       "<tr>\n",
       "  <th>Covariance Type:</th>      <td>nonrobust</td>    <th>                     </th>     <td> </td>   \n",
       "</tr>\n",
       "</table>\n",
       "<table class=\"simpletable\">\n",
       "<tr>\n",
       "          <td></td>            <th>coef</th>     <th>std err</th>      <th>t</th>      <th>P>|t|</th>  <th>[0.025</th>    <th>0.975]</th>  \n",
       "</tr>\n",
       "<tr>\n",
       "  <th>Intercept</th>        <td>    0.6142</td> <td>    0.155</td> <td>    3.950</td> <td> 0.017</td> <td>    0.182</td> <td>    1.046</td>\n",
       "</tr>\n",
       "<tr>\n",
       "  <th>mass_std</th>         <td>    0.1957</td> <td>    0.093</td> <td>    2.101</td> <td> 0.104</td> <td>   -0.063</td> <td>    0.454</td>\n",
       "</tr>\n",
       "<tr>\n",
       "  <th>I(mass_std ** 2)</th> <td>   -0.0998</td> <td>    0.159</td> <td>   -0.629</td> <td> 0.564</td> <td>   -0.540</td> <td>    0.341</td>\n",
       "</tr>\n",
       "</table>\n",
       "<table class=\"simpletable\">\n",
       "<tr>\n",
       "  <th>Omnibus:</th>       <td>   nan</td> <th>  Durbin-Watson:     </th> <td>   1.479</td>\n",
       "</tr>\n",
       "<tr>\n",
       "  <th>Prob(Omnibus):</th> <td>   nan</td> <th>  Jarque-Bera (JB):  </th> <td>   1.016</td>\n",
       "</tr>\n",
       "<tr>\n",
       "  <th>Skew:</th>          <td> 0.901</td> <th>  Prob(JB):          </th> <td>   0.602</td>\n",
       "</tr>\n",
       "<tr>\n",
       "  <th>Kurtosis:</th>      <td> 2.514</td> <th>  Cond. No.          </th> <td>    4.04</td>\n",
       "</tr>\n",
       "</table><br/><br/>Notes:<br/>[1] Standard Errors assume that the covariance matrix of the errors is correctly specified."
      ],
      "text/latex": [
       "\\begin{center}\n",
       "\\begin{tabular}{lclc}\n",
       "\\toprule\n",
       "\\textbf{Dep. Variable:}    &    brain\\_std    & \\textbf{  R-squared:         } &     0.536   \\\\\n",
       "\\textbf{Model:}            &       OLS        & \\textbf{  Adj. R-squared:    } &     0.304   \\\\\n",
       "\\textbf{Method:}           &  Least Squares   & \\textbf{  F-statistic:       } &     2.310   \\\\\n",
       "\\textbf{Date:}             & Wed, 11 Dec 2024 & \\textbf{  Prob (F-statistic):} &    0.215    \\\\\n",
       "\\textbf{Time:}             &     16:51:06     & \\textbf{  Log-Likelihood:    } &    3.3223   \\\\\n",
       "\\textbf{No. Observations:} &           7      & \\textbf{  AIC:               } &   -0.6445   \\\\\n",
       "\\textbf{Df Residuals:}     &           4      & \\textbf{  BIC:               } &   -0.8068   \\\\\n",
       "\\textbf{Df Model:}         &           2      & \\textbf{                     } &             \\\\\n",
       "\\textbf{Covariance Type:}  &    nonrobust     & \\textbf{                     } &             \\\\\n",
       "\\bottomrule\n",
       "\\end{tabular}\n",
       "\\begin{tabular}{lcccccc}\n",
       "                           & \\textbf{coef} & \\textbf{std err} & \\textbf{t} & \\textbf{P$> |$t$|$} & \\textbf{[0.025} & \\textbf{0.975]}  \\\\\n",
       "\\midrule\n",
       "\\textbf{Intercept}         &       0.6142  &        0.155     &     3.950  &         0.017        &        0.182    &        1.046     \\\\\n",
       "\\textbf{mass\\_std}         &       0.1957  &        0.093     &     2.101  &         0.104        &       -0.063    &        0.454     \\\\\n",
       "\\textbf{I(mass\\_std ** 2)} &      -0.0998  &        0.159     &    -0.629  &         0.564        &       -0.540    &        0.341     \\\\\n",
       "\\bottomrule\n",
       "\\end{tabular}\n",
       "\\begin{tabular}{lclc}\n",
       "\\textbf{Omnibus:}       &    nan & \\textbf{  Durbin-Watson:     } &    1.479  \\\\\n",
       "\\textbf{Prob(Omnibus):} &    nan & \\textbf{  Jarque-Bera (JB):  } &    1.016  \\\\\n",
       "\\textbf{Skew:}          &  0.901 & \\textbf{  Prob(JB):          } &    0.602  \\\\\n",
       "\\textbf{Kurtosis:}      &  2.514 & \\textbf{  Cond. No.          } &     4.04  \\\\\n",
       "\\bottomrule\n",
       "\\end{tabular}\n",
       "%\\caption{OLS Regression Results}\n",
       "\\end{center}\n",
       "\n",
       "Notes: \\newline\n",
       " [1] Standard Errors assume that the covariance matrix of the errors is correctly specified."
      ],
      "text/plain": [
       "<class 'statsmodels.iolib.summary.Summary'>\n",
       "\"\"\"\n",
       "                            OLS Regression Results                            \n",
       "==============================================================================\n",
       "Dep. Variable:              brain_std   R-squared:                       0.536\n",
       "Model:                            OLS   Adj. R-squared:                  0.304\n",
       "Method:                 Least Squares   F-statistic:                     2.310\n",
       "Date:                Wed, 11 Dec 2024   Prob (F-statistic):              0.215\n",
       "Time:                        16:51:06   Log-Likelihood:                 3.3223\n",
       "No. Observations:                   7   AIC:                           -0.6445\n",
       "Df Residuals:                       4   BIC:                           -0.8068\n",
       "Df Model:                           2                                         \n",
       "Covariance Type:            nonrobust                                         \n",
       "====================================================================================\n",
       "                       coef    std err          t      P>|t|      [0.025      0.975]\n",
       "------------------------------------------------------------------------------------\n",
       "Intercept            0.6142      0.155      3.950      0.017       0.182       1.046\n",
       "mass_std             0.1957      0.093      2.101      0.104      -0.063       0.454\n",
       "I(mass_std ** 2)    -0.0998      0.159     -0.629      0.564      -0.540       0.341\n",
       "==============================================================================\n",
       "Omnibus:                          nan   Durbin-Watson:                   1.479\n",
       "Prob(Omnibus):                    nan   Jarque-Bera (JB):                1.016\n",
       "Skew:                           0.901   Prob(JB):                        0.602\n",
       "Kurtosis:                       2.514   Cond. No.                         4.04\n",
       "==============================================================================\n",
       "\n",
       "Notes:\n",
       "[1] Standard Errors assume that the covariance matrix of the errors is correctly specified.\n",
       "\"\"\""
      ]
     },
     "execution_count": 10,
     "metadata": {},
     "output_type": "execute_result"
    }
   ],
   "source": [
    "m_7_2 = smf.ols(\"brain_std ~ mass_std + I(mass_std**2)\", data=brains).fit()\n",
    "m_7_2.summary()"
   ]
  },
  {
   "cell_type": "markdown",
   "metadata": {},
   "source": [
    "#### Code 7.8"
   ]
  },
  {
   "cell_type": "code",
   "execution_count": 11,
   "metadata": {},
   "outputs": [],
   "source": [
    "m_7_3 = smf.ols(\"brain_std ~ mass_std + I(mass_std**2) + I(mass_std**3)\", data=brains).fit()\n",
    "m_7_4 = smf.ols(\n",
    "    \"brain_std ~ mass_std + I(mass_std**2) + I(mass_std**3) + I(mass_std**4)\",\n",
    "    data=brains,\n",
    ").fit()\n",
    "m_7_5 = smf.ols(\n",
    "    \"brain_std ~ mass_std + I(mass_std**2) + I(mass_std**3) + I(mass_std**4) + I(mass_std**5)\",\n",
    "    data=brains,\n",
    ").fit()"
   ]
  },
  {
   "cell_type": "markdown",
   "metadata": {},
   "source": [
    "#### Code 7.9"
   ]
  },
  {
   "cell_type": "code",
   "execution_count": 12,
   "metadata": {},
   "outputs": [],
   "source": [
    "m_7_6 = smf.ols(\n",
    "    \"brain_std ~ mass_std + I(mass_std**2) + I(mass_std**3) + I(mass_std**4) + I(mass_std**5) + I(mass_std**6)\",\n",
    "    data=brains,\n",
    ").fit()"
   ]
  },
  {
   "cell_type": "markdown",
   "metadata": {},
   "source": [
    "#### Code 7.10\n",
    "\n",
    "The chapter gives code to produce the first panel of Figure 7.3. Here, produce the entire figure by looping over models 7.1-7.6.\n",
    "\n",
    "To sample the posterior predictive on a new independent variable we make use of theano SharedVariable objects, as outlined [here](https://docs.pymc.io/notebooks/data_container.html)"
   ]
  },
  {
   "cell_type": "code",
   "execution_count": 13,
   "metadata": {},
   "outputs": [
    {
     "name": "stderr",
     "output_type": "stream",
     "text": [
      "c:\\Users\\User\\.conda\\envs\\my_bap3\\Lib\\site-packages\\statsmodels\\regression\\linear_model.py:1717: RuntimeWarning: divide by zero encountered in scalar divide\n",
      "  return np.dot(wresid, wresid) / self.df_resid\n"
     ]
    },
    {
     "data": {
      "image/png": "[encoded data removed]",
      "text/plain": [
       "<Figure size 600x850 with 6 Axes>"
      ]
     },
     "metadata": {},
     "output_type": "display_data"
    }
   ],
   "source": [
    "models = [m_7_1, m_7_2, m_7_3, m_7_4, m_7_5, m_7_6]\n",
    "names = [\"m_7_1\", \"m_7_2\", \"m_7_3\", \"m_7_4\", \"m_7_5\", \"m_7_6\"]\n",
    "\n",
    "mass_plot = np.linspace(33, 62, 100)\n",
    "mass_new = (mass_plot - brains.mass.mean()) / brains.mass.std()\n",
    "\n",
    "fig, axs = plt.subplots(3, 2, figsize=[6, 8.5], sharex=True, sharey=\"row\")\n",
    "\n",
    "for model, name, ax in zip(models, names, axs.flat):\n",
    "    prediction = model.get_prediction({\"mass_std\": mass_new})\n",
    "    pred = prediction.summary_frame(alpha=0.11) * brains.brain.max()\n",
    "\n",
    "    ax.plot(mass_plot, pred[\"mean\"])\n",
    "    ax.fill_between(mass_plot, pred[\"mean_ci_lower\"], pred[\"mean_ci_upper\"], alpha=0.3)\n",
    "    ax.scatter(brains.mass, brains.brain, color=\"C0\", s=15)\n",
    "\n",
    "    ax.set_title(f\"{name}: R^2: {model.rsquared:.2f}\", loc=\"left\", fontsize=11)\n",
    "\n",
    "    if ax.get_subplotspec().is_first_col():\n",
    "        ax.set_ylabel(\"brain volume (cc)\")\n",
    "\n",
    "    if ax.get_subplotspec().is_first_col():\n",
    "        ax.set_xlabel(\"body mass (kg)\")\n",
    "\n",
    "    if ax.get_subplotspec().is_first_col():\n",
    "        ax.set_ylim(-500, 2100)\n",
    "        ax.axhline(0, ls=\"dashed\", c=\"k\", lw=1)\n",
    "        ax.set_yticks([0, 450, 1300])\n",
    "    else:\n",
    "        ax.set_ylim(300, 1600)\n",
    "        ax.set_yticks([450, 900, 1300])"
   ]
  },
  {
   "cell_type": "markdown",
   "metadata": {},
   "source": [
    "#### Code 7.11 - this is R specific notation for dropping rows"
   ]
  },
  {
   "cell_type": "code",
   "execution_count": 14,
   "metadata": {},
   "outputs": [],
   "source": [
    "brains_new = brains.drop(brains.index[-1])"
   ]
  },
  {
   "cell_type": "code",
   "execution_count": 15,
   "metadata": {},
   "outputs": [
    {
     "data": {
      "image/png": "[encoded data removed]",
      "text/plain": [
       "<Figure size 800x300 with 2 Axes>"
      ]
     },
     "metadata": {},
     "output_type": "display_data"
    }
   ],
   "source": [
    "# Figure 7.4\n",
    "\n",
    "# this code taken from PyMC port of Rethinking/Chp_06.ipynb\n",
    "\n",
    "f, (ax1, ax2) = plt.subplots(1, 2, sharey=True, figsize=(8, 3))\n",
    "ax1.scatter(brains.mass, brains.brain, alpha=0.8)\n",
    "ax2.scatter(brains.mass, brains.brain, alpha=0.8)\n",
    "for i in range(len(brains)):\n",
    "    d_new = brains.drop(brains.index[-i])  # drop each data point in turn\n",
    "\n",
    "    # first order model\n",
    "    m0 = smf.ols(\"brain ~ mass\", d_new).fit()\n",
    "    # need to calculate regression line\n",
    "    # need to add intercept term explicitly\n",
    "    x = sm.add_constant(d_new.mass)  # add constant to new data frame with mass\n",
    "    x_pred = pd.DataFrame(\n",
    "        {\"mass\": np.linspace(x.mass.min() - 10, x.mass.max() + 10, 50)}\n",
    "    )  # create linspace dataframe\n",
    "    x_pred2 = sm.add_constant(x_pred)  # add constant to newly created linspace dataframe\n",
    "    y_pred = m0.predict(x_pred2)  # calculate predicted values\n",
    "    ax1.plot(x_pred, y_pred, \"gray\", alpha=0.5)\n",
    "    ax1.set_ylabel(\"body mass (kg)\", fontsize=12)\n",
    "    ax1.set_xlabel(\"brain volume (cc)\", fontsize=12)\n",
    "    ax1.set_title(\"Underfit model\")\n",
    "\n",
    "    # fifth order model\n",
    "    m1 = smf.ols(\n",
    "        \"brain ~ mass + I(mass**2) + I(mass**3) + I(mass**4) + I(mass**5)\", data=d_new\n",
    "    ).fit()\n",
    "    x = sm.add_constant(d_new.mass)  # add constant to new data frame with mass\n",
    "    x_pred = pd.DataFrame(\n",
    "        {\"mass\": np.linspace(x.mass.min() - 10, x.mass.max() + 10, 200)}\n",
    "    )  # create linspace dataframe\n",
    "    x_pred2 = sm.add_constant(x_pred)  # add constant to newly created linspace dataframe\n",
    "    y_pred = m1.predict(x_pred2)  # calculate predicted values from fitted model\n",
    "    ax2.plot(x_pred, y_pred, \"gray\", alpha=0.5)\n",
    "    ax2.set_xlim(32, 62)\n",
    "    ax2.set_ylim(-250, 2200)\n",
    "    ax2.set_ylabel(\"body mass (kg)\", fontsize=12)\n",
    "    ax2.set_xlabel(\"brain volume (cc)\", fontsize=12)\n",
    "    ax2.set_title(\"Overfit model\")"
   ]
  },
  {
   "cell_type": "markdown",
   "metadata": {},
   "source": [
    "#### Code 7.12"
   ]
  },
  {
   "cell_type": "code",
   "execution_count": 16,
   "metadata": {},
   "outputs": [
    {
     "data": {
      "text/plain": [
       "0.6108643020548935"
      ]
     },
     "execution_count": 16,
     "metadata": {},
     "output_type": "execute_result"
    }
   ],
   "source": [
    "p = np.array([0.3, 0.7])\n",
    "-np.sum(p * np.log(p))"
   ]
  },
  {
   "cell_type": "code",
   "execution_count": 17,
   "metadata": {},
   "outputs": [
    {
     "data": {
      "image/png": "[encoded data removed]",
      "text/plain": [
       "<Figure size 720x480 with 1 Axes>"
      ]
     },
     "metadata": {},
     "output_type": "display_data"
    }
   ],
   "source": [
    "# Figure 7.5\n",
    "p = np.array([0.3, 0.7])\n",
    "q = np.arange(0.01, 1, 0.01)\n",
    "DKL = np.sum(p * np.log(p / np.array([q, 1 - q]).T), 1)\n",
    "\n",
    "plt.plot(q, DKL)\n",
    "plt.xlabel(\"q[1]\")\n",
    "plt.ylabel(\"Divergence of q from p\")\n",
    "plt.axvline(0.3, ls=\"dashed\", color=\"k\")\n",
    "plt.text(0.315, 1.22, \"q = p\");"
   ]
  },
  {
   "cell_type": "markdown",
   "metadata": {},
   "source": [
    "#### Code 7.13 & 7.14"
   ]
  },
  {
   "cell_type": "code",
   "execution_count": 18,
   "metadata": {},
   "outputs": [],
   "source": [
    "n_samples = 3000\n",
    "\n",
    "intercept, slope = stats.multivariate_normal(m_7_1.params, m_7_1.cov_params()).rvs(n_samples).T\n",
    "\n",
    "pred = intercept + slope * brains.mass_std.values.reshape(-1, 1)\n",
    "\n",
    "n, ns = pred.shape"
   ]
  },
  {
   "cell_type": "code",
   "execution_count": 19,
   "metadata": {},
   "outputs": [
    {
     "data": {
      "text/plain": [
       "array([ 0.62060273,  0.66080837,  0.56608632,  0.62876608,  0.47909493,\n",
       "        0.44851465, -0.8559313 ])"
      ]
     },
     "execution_count": 19,
     "metadata": {},
     "output_type": "execute_result"
    }
   ],
   "source": [
    "# PyMC does not have a way to calculate LPPD directly, so we use the approach from 7.14\n",
    "\n",
    "sigmas = (np.sum((pred - brains.brain_std.values.reshape(-1, 1)) ** 2, 0) / 7) ** 0.5\n",
    "ll = np.zeros((n, ns))\n",
    "for s in range(ns):\n",
    "    logprob = stats.norm.logpdf(brains.brain_std, pred[:, s], sigmas[s])\n",
    "    ll[:, s] = logprob\n",
    "\n",
    "lppd = np.zeros(n)\n",
    "for i in range(n):\n",
    "    lppd[i] = logsumexp(ll[i]) - np.log(ns)\n",
    "\n",
    "lppd"
   ]
  },
  {
   "cell_type": "markdown",
   "metadata": {},
   "source": [
    "#### Code 7.15"
   ]
  },
  {
   "cell_type": "code",
   "execution_count": 20,
   "metadata": {},
   "outputs": [],
   "source": [
    "# make an lppd function that can be applied to all models (from code above)\n",
    "def lppd(model, n_samples=1e4):\n",
    "    n_samples = int(n_samples)\n",
    "\n",
    "    pars = stats.multivariate_normal(model.params, model.cov_params()).rvs(n_samples).T\n",
    "    dmat = dmatrix(\n",
    "        model.model.data.design_info, brains, return_type=\"dataframe\"\n",
    "    ).values  # get model design matrix\n",
    "    pred = dmat.dot(pars)\n",
    "\n",
    "    n, ns = pred.shape\n",
    "\n",
    "    # this approach for calculating lppd isfrom 7.14\n",
    "    sigmas = (np.sum((pred - brains.brain_std.values.reshape(-1, 1)) ** 2, 0) / 7) ** 0.5\n",
    "    ll = np.zeros((n, ns))\n",
    "    for s in range(ns):\n",
    "        logprob = stats.norm.logpdf(brains.brain_std, pred[:, s], sigmas[s])\n",
    "        ll[:, s] = logprob\n",
    "\n",
    "    lppd = np.zeros(n)\n",
    "    for i in range(n):\n",
    "        lppd[i] = logsumexp(ll[i]) - np.log(ns)\n",
    "\n",
    "    return lppd"
   ]
  },
  {
   "cell_type": "code",
   "execution_count": 21,
   "metadata": {},
   "outputs": [
    {
     "data": {
      "text/plain": [
       "array([ 2.54799078,  2.3115561 ,  2.89843278,  3.53621752, 11.04367575])"
      ]
     },
     "execution_count": 21,
     "metadata": {},
     "output_type": "execute_result"
    }
   ],
   "source": [
    "# model 7_6 does not work with OLS because its covariance matrix is not finite.\n",
    "lppds = np.array(list(map(lppd, models[:-1], [1000] * len(models[:-1]))))\n",
    "\n",
    "lppds.sum(1)"
   ]
  },
  {
   "cell_type": "markdown",
   "metadata": {},
   "source": [
    "#### Code 7.16\n",
    "\n",
    "This relies on the `sim.train.test` function in the `rethinking` package. [This](https://github.com/rmcelreath/rethinking/blob/master/R/sim_train_test.R) is the original function.\n",
    "\n",
    "The python port of this function below is from [Rethinking/Chp_06](https://nbviewer.jupyter.org/github/pymc-devs/resources/blob/master/Rethinking/Chp_06.ipynb) Code 6.12."
   ]
  },
  {
   "cell_type": "code",
   "execution_count": 22,
   "metadata": {},
   "outputs": [],
   "source": [
    "def sim_train_test(N=20, k=3, rho=[0.15, -0.4], b_sigma=100, samples=1000):\n",
    "\n",
    "    n_dim = 1 + len(rho)\n",
    "    if n_dim < k:\n",
    "        n_dim = k\n",
    "    Rho = np.diag(np.ones(n_dim))\n",
    "    Rho[0, 1:3:1] = rho\n",
    "    i_lower = np.tril_indices(n_dim, -1)\n",
    "    Rho[i_lower] = Rho.T[i_lower]\n",
    "\n",
    "    x_train = stats.multivariate_normal.rvs(cov=Rho, size=N)\n",
    "    x_test = stats.multivariate_normal.rvs(cov=Rho, size=N)\n",
    "\n",
    "    mm_train = np.ones((N, 1))\n",
    "\n",
    "    np.concatenate([mm_train, x_train[:, 1:k]], axis=1)\n",
    "\n",
    "    # Using pymc\n",
    "    with pm.Model() as m_sim:\n",
    "        vec_V = pm.MvNormal(\n",
    "            \"vec_V\",\n",
    "            mu=0,\n",
    "            cov=b_sigma * np.eye(n_dim),\n",
    "            shape=(1, n_dim),\n",
    "            initval=np.random.randn(1, n_dim) * 0.01,\n",
    "        )\n",
    "        mu = pm.Deterministic(\"mu\", 0 + pm.math.dot(x_train, vec_V.T))\n",
    "        y = pm.Normal(\"y\", mu=mu, sigma=1, observed=x_train[:, 0].reshape(-1, 1))\n",
    "\n",
    "    with m_sim:\n",
    "        trace_m_sim = pm.sample(samples, progressbar=False)\n",
    "\n",
    "    vec = az.summary(trace_m_sim)[\"mean\"][:n_dim]\n",
    "    vec = np.array([i for i in vec]).reshape(n_dim, -1)\n",
    "\n",
    "    dev_train = -2 * sum(stats.norm.logpdf(x_train, loc=np.matmul(x_train, vec), scale=1))\n",
    "\n",
    "    mm_test = np.ones((N, 1))\n",
    "\n",
    "    mm_test = np.concatenate([mm_test, x_test[:, 1 : k + 1]], axis=1)\n",
    "\n",
    "    dev_test = -2 * sum(stats.norm.logpdf(x_test[:, 0], loc=np.matmul(mm_test, vec), scale=1))\n",
    "\n",
    "    return np.mean(dev_train), np.mean(dev_test)"
   ]
  },
  {
   "cell_type": "code",
   "execution_count": 23,
   "metadata": {},
   "outputs": [
    {
     "name": "stdout",
     "output_type": "stream",
     "text": [
      "Num Params: 2\n"
     ]
    },
    {
     "name": "stderr",
     "output_type": "stream",
     "text": [
      "100%|██████████| 10/10 [05:36<00:00, 33.61s/it]\n"
     ]
    },
    {
     "name": "stdout",
     "output_type": "stream",
     "text": [
      "Num Params: 3\n"
     ]
    },
    {
     "name": "stderr",
     "output_type": "stream",
     "text": [
      "100%|██████████| 10/10 [04:24<00:00, 26.43s/it]\n"
     ]
    },
    {
     "name": "stdout",
     "output_type": "stream",
     "text": [
      "Num Params: 4\n"
     ]
    },
    {
     "name": "stderr",
     "output_type": "stream",
     "text": [
      "100%|██████████| 10/10 [4:32:47<00:00, 1636.71s/it] \n"
     ]
    },
    {
     "name": "stdout",
     "output_type": "stream",
     "text": [
      "Num Params: 5\n"
     ]
    },
    {
     "name": "stderr",
     "output_type": "stream",
     "text": [
      "100%|██████████| 10/10 [04:03<00:00, 24.38s/it]\n"
     ]
    },
    {
     "name": "stdout",
     "output_type": "stream",
     "text": [
      "Num Params: 6\n"
     ]
    },
    {
     "name": "stderr",
     "output_type": "stream",
     "text": [
      "100%|██████████| 10/10 [04:03<00:00, 24.38s/it]\n"
     ]
    }
   ],
   "source": [
    "# This cell is expected have a long run time\n",
    "n = 20\n",
    "tries = 10\n",
    "param = 6\n",
    "r = np.zeros(shape=(param - 1, 4))\n",
    "\n",
    "train = []\n",
    "test = []\n",
    "\n",
    "# setting log output to error\n",
    "logger = logging.getLogger(\"pymc\")\n",
    "init_level = logger.level\n",
    "logger.setLevel(logging.ERROR)\n",
    "\n",
    "for j in range(2, param + 1):\n",
    "    print(f\"Num Params: {j}\")\n",
    "    for i in tqdm.tqdm(range(1, tries + 1)):\n",
    "        tr, te = sim_train_test(N=n, k=param, samples=1000)\n",
    "        train.append(tr), test.append(te)\n",
    "    r[j - 2, :] = (\n",
    "        np.mean(train),\n",
    "        np.std(train, ddof=1),\n",
    "        np.mean(test),\n",
    "        np.std(test, ddof=1),\n",
    "    )\n",
    "\n",
    "# resetting logger level\n",
    "logger.setLevel(init_level)"
   ]
  },
  {
   "cell_type": "markdown",
   "metadata": {},
   "source": [
    "#### Code 7.17\n",
    "\n",
    "Does not apply because multi-threading is automatic in PyMC."
   ]
  },
  {
   "cell_type": "markdown",
   "metadata": {},
   "source": [
    "#### Code 7.18"
   ]
  },
  {
   "cell_type": "code",
   "execution_count": 24,
   "metadata": {},
   "outputs": [
    {
     "data": {
      "image/png": "[encoded data removed]",
      "text/plain": [
       "<Figure size 1000x600 with 1 Axes>"
      ]
     },
     "metadata": {},
     "output_type": "display_data"
    }
   ],
   "source": [
    "num_param = np.arange(2, param + 1)\n",
    "\n",
    "plt.figure(figsize=(10, 6))\n",
    "plt.scatter(num_param, r[:, 0], color=\"C0\")\n",
    "plt.xticks(num_param)\n",
    "\n",
    "for j in range(param - 1):\n",
    "    plt.vlines(\n",
    "        num_param[j],\n",
    "        r[j, 0] - r[j, 1],\n",
    "        r[j, 0] + r[j, 1],\n",
    "        color=\"mediumblue\",\n",
    "        zorder=-1,\n",
    "        alpha=0.80,\n",
    "    )\n",
    "\n",
    "plt.scatter(num_param + 0.1, r[:, 2], facecolors=\"none\", edgecolors=\"k\")\n",
    "\n",
    "for j in range(param - 1):\n",
    "    plt.vlines(\n",
    "        num_param[j] + 0.1,\n",
    "        r[j, 2] - r[j, 3],\n",
    "        r[j, 2] + r[j, 3],\n",
    "        color=\"k\",\n",
    "        zorder=-2,\n",
    "        alpha=0.70,\n",
    "    )\n",
    "\n",
    "dist = 0.20\n",
    "plt.text(num_param[1] - dist, r[1, 0] - dist, \"in\", color=\"C0\", fontsize=13)\n",
    "plt.text(num_param[1] + dist, r[1, 2] - dist, \"out\", color=\"k\", fontsize=13)\n",
    "plt.text(num_param[1] + dist, r[1, 2] + r[1, 3] - dist, \"+1 SD\", color=\"k\", fontsize=10)\n",
    "plt.text(num_param[1] + dist, r[1, 2] - r[1, 3] - dist, \"+1 SD\", color=\"k\", fontsize=10)\n",
    "plt.xlabel(\"Number of parameters\", fontsize=14)\n",
    "plt.ylabel(\"Deviance\", fontsize=14)\n",
    "plt.title(f\"N = {n}\", fontsize=14)\n",
    "plt.show()"
   ]
  },
  {
   "cell_type": "markdown",
   "metadata": {},
   "source": [
    "These uncertainties are a *lot* larger than in the book... MCMC vs OLS again?"
   ]
  },
  {
   "cell_type": "markdown",
   "metadata": {},
   "source": [
    "#### Code 7.19\n",
    "\n",
    "7.19 to 7.25 transcribed directly from 6.15-6.20 in [Chapter 6 of 1st Edition](https://nbviewer.jupyter.org/github/pymc-devs/resources/blob/master/Rethinking/Chp_06.ipynb)."
   ]
  },
  {
   "cell_type": "code",
   "execution_count": 25,
   "metadata": {},
   "outputs": [],
   "source": [
    "data = pd.read_csv(\"Data/cars.csv\", sep=\",\", index_col=0)"
   ]
  },
  {
   "cell_type": "code",
   "execution_count": 26,
   "metadata": {},
   "outputs": [
    {
     "name": "stderr",
     "output_type": "stream",
     "text": [
      "Auto-assigning NUTS sampler...\n",
      "Initializing NUTS using jitter+adapt_diag...\n",
      "Multiprocess sampling (4 chains in 4 jobs)\n",
      "NUTS: [a, b, sigma]\n"
     ]
    },
    {
     "data": {
      "application/vnd.jupyter.widget-view+json": {
       "model_id": "6e585dbd58924b62b1f13c0be91779ad",
       "version_major": 2,
       "version_minor": 0
      },
      "text/plain": [
       "Output()"
      ]
     },
     "metadata": {},
     "output_type": "display_data"
    },
    {
     "data": {
      "text/html": [
       "<pre style=\"white-space:pre;overflow-x:auto;line-height:normal;font-family:Menlo,'DejaVu Sans Mono',consolas,'Courier New',monospace\"></pre>\n"
      ],
      "text/plain": []
     },
     "metadata": {},
     "output_type": "display_data"
    },
    {
     "name": "stderr",
     "output_type": "stream",
     "text": [
      "Sampling 4 chains for 10_000 tune and 5_000 draw iterations (40_000 + 20_000 draws total) took 43 seconds.\n",
      "C:\\Users\\User\\AppData\\Local\\Temp\\ipykernel_596\\1693198948.py:9: FutureWarning: extract_dataset has been deprecated, please use extract\n",
      "  post = az.extract_dataset(m.posterior)\n"
     ]
    }
   ],
   "source": [
    "with pm.Model() as m:\n",
    "    a = pm.Normal(\"a\", mu=0, sigma=100)\n",
    "    b = pm.Normal(\"b\", mu=0, sigma=10)\n",
    "    sigma = pm.Uniform(\"sigma\", 0, 30)\n",
    "    mu = pm.Deterministic(\"mu\", a + b * data[\"speed\"].values)\n",
    "    dist = pm.Normal(\"dist\", mu=mu, sigma=sigma, observed=data[\"dist\"].values)\n",
    "    m = pm.sample(5000, tune=10000)\n",
    "\n",
    "post = az.extract_dataset(m.posterior)\n",
    "post = post.sel(draw=slice(None, None, int(len(post.sample) / 1000)))"
   ]
  },
  {
   "cell_type": "markdown",
   "metadata": {},
   "source": [
    "#### Code 7.20"
   ]
  },
  {
   "cell_type": "code",
   "execution_count": 27,
   "metadata": {},
   "outputs": [],
   "source": [
    "n_samples = 1000\n",
    "n_cases = data.shape[0]\n",
    "logprob = np.zeros((n_cases, n_samples))\n",
    "\n",
    "for s in range(0, n_samples):\n",
    "    mu = post[\"a\"][s].values + post[\"b\"][s].values * data[\"speed\"].values\n",
    "    p_ = stats.norm.logpdf(data[\"dist\"], loc=mu, scale=post[\"sigma\"][s])\n",
    "    logprob[:, s] = p_"
   ]
  },
  {
   "cell_type": "markdown",
   "metadata": {},
   "source": [
    "#### Code 7.21"
   ]
  },
  {
   "cell_type": "code",
   "execution_count": 28,
   "metadata": {},
   "outputs": [],
   "source": [
    "n_cases = data.shape[0]\n",
    "lppd = np.zeros(n_cases)\n",
    "for a in range(1, n_cases):\n",
    "    lppd[a] = logsumexp(logprob[a]) - np.log(n_samples)"
   ]
  },
  {
   "cell_type": "markdown",
   "metadata": {},
   "source": [
    "#### Code 7.22"
   ]
  },
  {
   "cell_type": "code",
   "execution_count": 29,
   "metadata": {},
   "outputs": [],
   "source": [
    "pWAIC = np.zeros(n_cases)\n",
    "for i in range(1, n_cases):\n",
    "    pWAIC[i] = np.var(logprob[i])"
   ]
  },
  {
   "cell_type": "markdown",
   "metadata": {},
   "source": [
    "#### Code 7.23"
   ]
  },
  {
   "cell_type": "code",
   "execution_count": 30,
   "metadata": {},
   "outputs": [
    {
     "data": {
      "text/plain": [
       "412.08379615968926"
      ]
     },
     "execution_count": 30,
     "metadata": {},
     "output_type": "execute_result"
    }
   ],
   "source": [
    "-2 * (sum(lppd) - sum(pWAIC))"
   ]
  },
  {
   "cell_type": "markdown",
   "metadata": {},
   "source": [
    "#### Code 7.24"
   ]
  },
  {
   "cell_type": "code",
   "execution_count": 31,
   "metadata": {},
   "outputs": [
    {
     "data": {
      "text/plain": [
       "14.890131117198289"
      ]
     },
     "execution_count": 31,
     "metadata": {},
     "output_type": "execute_result"
    }
   ],
   "source": [
    "waic_vec = -2 * (lppd - pWAIC)\n",
    "(n_cases * np.var(waic_vec)) ** 0.5"
   ]
  },
  {
   "cell_type": "markdown",
   "metadata": {},
   "source": [
    "#### Setup for Code 7.25+\n",
    "\n",
    "Have to reproduce m6.6-m6.8 from Code 6.13-6.17 in Chapter 6"
   ]
  },
  {
   "cell_type": "code",
   "execution_count": 36,
   "metadata": {},
   "outputs": [
    {
     "name": "stderr",
     "output_type": "stream",
     "text": [
      "Auto-assigning NUTS sampler...\n",
      "Initializing NUTS using jitter+adapt_diag...\n",
      "Multiprocess sampling (4 chains in 4 jobs)\n",
      "NUTS: [p, sigma]\n"
     ]
    },
    {
     "data": {
      "application/vnd.jupyter.widget-view+json": {
       "model_id": "116428133ed940c68b34643e74d2fc75",
       "version_major": 2,
       "version_minor": 0
      },
      "text/plain": [
       "Output()"
      ]
     },
     "metadata": {},
     "output_type": "display_data"
    },
    {
     "data": {
      "text/html": [
       "<pre style=\"white-space:pre;overflow-x:auto;line-height:normal;font-family:Menlo,'DejaVu Sans Mono',consolas,'Courier New',monospace\"></pre>\n"
      ],
      "text/plain": []
     },
     "metadata": {},
     "output_type": "display_data"
    },
    {
     "name": "stderr",
     "output_type": "stream",
     "text": [
      "Sampling 4 chains for 1_000 tune and 1_000 draw iterations (4_000 + 4_000 draws total) took 22 seconds.\n",
      "Auto-assigning NUTS sampler...\n",
      "Initializing NUTS using jitter+adapt_diag...\n",
      "Multiprocess sampling (4 chains in 4 jobs)\n",
      "NUTS: [a, bt, bf, sigma]\n"
     ]
    },
    {
     "data": {
      "application/vnd.jupyter.widget-view+json": {
       "model_id": "f5b23acf1a9245c79ef6444eb95306b2",
       "version_major": 2,
       "version_minor": 0
      },
      "text/plain": [
       "Output()"
      ]
     },
     "metadata": {},
     "output_type": "display_data"
    },
    {
     "data": {
      "text/html": [
       "<pre style=\"white-space:pre;overflow-x:auto;line-height:normal;font-family:Menlo,'DejaVu Sans Mono',consolas,'Courier New',monospace\"></pre>\n"
      ],
      "text/plain": []
     },
     "metadata": {},
     "output_type": "display_data"
    },
    {
     "name": "stderr",
     "output_type": "stream",
     "text": [
      "Sampling 4 chains for 1_000 tune and 1_000 draw iterations (4_000 + 4_000 draws total) took 22 seconds.\n",
      "Auto-assigning NUTS sampler...\n",
      "Initializing NUTS using jitter+adapt_diag...\n",
      "Multiprocess sampling (4 chains in 4 jobs)\n",
      "NUTS: [a, bt, sigma]\n"
     ]
    },
    {
     "data": {
      "application/vnd.jupyter.widget-view+json": {
       "model_id": "453dc2afa0a748f6b97284adcb900a19",
       "version_major": 2,
       "version_minor": 0
      },
      "text/plain": [
       "Output()"
      ]
     },
     "metadata": {},
     "output_type": "display_data"
    },
    {
     "data": {
      "text/html": [
       "<pre style=\"white-space:pre;overflow-x:auto;line-height:normal;font-family:Menlo,'DejaVu Sans Mono',consolas,'Courier New',monospace\"></pre>\n"
      ],
      "text/plain": []
     },
     "metadata": {},
     "output_type": "display_data"
    },
    {
     "name": "stderr",
     "output_type": "stream",
     "text": [
      "Sampling 4 chains for 1_000 tune and 1_000 draw iterations (4_000 + 4_000 draws total) took 22 seconds.\n"
     ]
    }
   ],
   "source": [
    "# number of plants\n",
    "N = 100\n",
    "# simulate initial heights\n",
    "h0 = np.random.normal(10, 2, N)\n",
    "# assign treatments and simulate fungus and growth\n",
    "treatment = np.repeat([0, 1], N / 2)\n",
    "fungus = np.random.binomial(n=1, p=0.5 - treatment * 0.4, size=N)\n",
    "h1 = h0 + np.random.normal(5 - 3 * fungus, size=N)\n",
    "# compose a clean data frame\n",
    "d = pd.DataFrame.from_dict({\"h0\": h0, \"h1\": h1, \"treatment\": treatment, \"fungus\": fungus})\n",
    "\n",
    "with pm.Model() as m_6_6:\n",
    "    p = pm.Lognormal(\"p\", 0, 0.25)\n",
    "\n",
    "    mu = pm.Deterministic(\"mu\", p * d.h0.values)\n",
    "    sigma = pm.Exponential(\"sigma\", 1)\n",
    "\n",
    "    h1 = pm.Normal(\"h1\", mu=mu, sigma=sigma, observed=d.h1.values)\n",
    "\n",
    "    m_6_6_trace = pm.sample(return_inferencedata=True, idata_kwargs={\"log_likelihood\": True})\n",
    "\n",
    "with pm.Model() as m_6_7:\n",
    "    a = pm.Normal(\"a\", 0, 0.2)\n",
    "    bt = pm.Normal(\"bt\", 0, 0.5)\n",
    "    bf = pm.Normal(\"bf\", 0, 0.5)\n",
    "\n",
    "    p = a + bt * d.treatment.values + bf * d.fungus.values\n",
    "\n",
    "    mu = pm.Deterministic(\"mu\", p * d.h0.values)\n",
    "    sigma = pm.Exponential(\"sigma\", 1)\n",
    "\n",
    "    h1 = pm.Normal(\"h1\", mu=mu, sigma=sigma, observed=d.h1.values)\n",
    "\n",
    "    m_6_7_trace = pm.sample(return_inferencedata=True, idata_kwargs={\"log_likelihood\": True})\n",
    "\n",
    "with pm.Model() as m_6_8:\n",
    "    a = pm.Normal(\"a\", 0, 0.2)\n",
    "    bt = pm.Normal(\"bt\", 0, 0.5)\n",
    "\n",
    "    p = a + bt * d.treatment.values\n",
    "\n",
    "    mu = pm.Deterministic(\"mu\", p * d.h0.values)\n",
    "    sigma = pm.Exponential(\"sigma\", 1)\n",
    "\n",
    "    h1 = pm.Normal(\"h1\", mu=mu, sigma=sigma, observed=d.h1.values)\n",
    "\n",
    "    m_6_8_trace = pm.sample(return_inferencedata=True, idata_kwargs={\"log_likelihood\": True})"
   ]
  },
  {
   "cell_type": "markdown",
   "metadata": {},
   "source": [
    "#### Code 7.25"
   ]
  },
  {
   "cell_type": "code",
   "execution_count": 37,
   "metadata": {},
   "outputs": [
    {
     "name": "stderr",
     "output_type": "stream",
     "text": [
      "c:\\Users\\User\\.conda\\envs\\my_bap3\\Lib\\site-packages\\arviz\\stats\\stats.py:1653: UserWarning: For one or more samples the posterior variance of the log predictive densities exceeds 0.4. This could be indication of WAIC starting to fail. \n",
      "See http://arxiv.org/abs/1507.04544 for details\n",
      "  warnings.warn(\n"
     ]
    },
    {
     "data": {
      "text/plain": [
       "Computed from 4000 posterior samples and 100 observations log-likelihood matrix.\n",
       "\n",
       "              Estimate       SE\n",
       "deviance_waic   326.38    15.71\n",
       "p_waic            3.78        -\n",
       "\n",
       "There has been a warning during the calculation. Please check the results."
      ]
     },
     "execution_count": 37,
     "metadata": {},
     "output_type": "execute_result"
    }
   ],
   "source": [
    "az.waic(m_6_7_trace, m_6_7, scale=\"deviance\")"
   ]
  },
  {
   "cell_type": "markdown",
   "metadata": {},
   "source": [
    "#### Code 7.26"
   ]
  },
  {
   "cell_type": "code",
   "execution_count": 38,
   "metadata": {},
   "outputs": [
    {
     "name": "stderr",
     "output_type": "stream",
     "text": [
      "c:\\Users\\User\\.conda\\envs\\my_bap3\\Lib\\site-packages\\arviz\\stats\\stats.py:1653: UserWarning: For one or more samples the posterior variance of the log predictive densities exceeds 0.4. This could be indication of WAIC starting to fail. \n",
      "See http://arxiv.org/abs/1507.04544 for details\n",
      "  warnings.warn(\n",
      "c:\\Users\\User\\.conda\\envs\\my_bap3\\Lib\\site-packages\\arviz\\stats\\stats.py:1653: UserWarning: For one or more samples the posterior variance of the log predictive densities exceeds 0.4. This could be indication of WAIC starting to fail. \n",
      "See http://arxiv.org/abs/1507.04544 for details\n",
      "  warnings.warn(\n",
      "c:\\Users\\User\\.conda\\envs\\my_bap3\\Lib\\site-packages\\arviz\\stats\\stats.py:1653: UserWarning: For one or more samples the posterior variance of the log predictive densities exceeds 0.4. This could be indication of WAIC starting to fail. \n",
      "See http://arxiv.org/abs/1507.04544 for details\n",
      "  warnings.warn(\n"
     ]
    },
    {
     "data": {
      "text/html": [
       "<div>\n",
       "<style scoped>\n",
       "    .dataframe tbody tr th:only-of-type {\n",
       "        vertical-align: middle;\n",
       "    }\n",
       "\n",
       "    .dataframe tbody tr th {\n",
       "        vertical-align: top;\n",
       "    }\n",
       "\n",
       "    .dataframe thead th {\n",
       "        text-align: right;\n",
       "    }\n",
       "</style>\n",
       "<table border=\"1\" class=\"dataframe\">\n",
       "  <thead>\n",
       "    <tr style=\"text-align: right;\">\n",
       "      <th></th>\n",
       "      <th>rank</th>\n",
       "      <th>elpd_waic</th>\n",
       "      <th>p_waic</th>\n",
       "      <th>elpd_diff</th>\n",
       "      <th>weight</th>\n",
       "      <th>se</th>\n",
       "      <th>dse</th>\n",
       "      <th>warning</th>\n",
       "      <th>scale</th>\n",
       "    </tr>\n",
       "  </thead>\n",
       "  <tbody>\n",
       "    <tr>\n",
       "      <th>m_6_7</th>\n",
       "      <td>0</td>\n",
       "      <td>326.384227</td>\n",
       "      <td>3.784681</td>\n",
       "      <td>0.000000</td>\n",
       "      <td>1.000000e+00</td>\n",
       "      <td>15.708556</td>\n",
       "      <td>0.000000</td>\n",
       "      <td>True</td>\n",
       "      <td>deviance</td>\n",
       "    </tr>\n",
       "    <tr>\n",
       "      <th>m_6_8</th>\n",
       "      <td>1</td>\n",
       "      <td>381.434563</td>\n",
       "      <td>2.793367</td>\n",
       "      <td>55.050336</td>\n",
       "      <td>1.111658e-12</td>\n",
       "      <td>13.992694</td>\n",
       "      <td>9.614067</td>\n",
       "      <td>True</td>\n",
       "      <td>deviance</td>\n",
       "    </tr>\n",
       "    <tr>\n",
       "      <th>m_6_6</th>\n",
       "      <td>2</td>\n",
       "      <td>403.699679</td>\n",
       "      <td>1.917698</td>\n",
       "      <td>77.315453</td>\n",
       "      <td>1.626158e-17</td>\n",
       "      <td>14.501312</td>\n",
       "      <td>13.386035</td>\n",
       "      <td>True</td>\n",
       "      <td>deviance</td>\n",
       "    </tr>\n",
       "  </tbody>\n",
       "</table>\n",
       "</div>"
      ],
      "text/plain": [
       "       rank   elpd_waic    p_waic  elpd_diff        weight         se  \\\n",
       "m_6_7     0  326.384227  3.784681   0.000000  1.000000e+00  15.708556   \n",
       "m_6_8     1  381.434563  2.793367  55.050336  1.111658e-12  13.992694   \n",
       "m_6_6     2  403.699679  1.917698  77.315453  1.626158e-17  14.501312   \n",
       "\n",
       "             dse  warning     scale  \n",
       "m_6_7   0.000000     True  deviance  \n",
       "m_6_8   9.614067     True  deviance  \n",
       "m_6_6  13.386035     True  deviance  "
      ]
     },
     "execution_count": 38,
     "metadata": {},
     "output_type": "execute_result"
    }
   ],
   "source": [
    "compare_df = az.compare(\n",
    "    {\n",
    "        \"m_6_6\": m_6_6_trace,\n",
    "        \"m_6_7\": m_6_7_trace,\n",
    "        \"m_6_8\": m_6_8_trace,\n",
    "    },\n",
    "    method=\"pseudo-BMA\",\n",
    "    ic=\"waic\",\n",
    "    scale=\"deviance\",\n",
    ")\n",
    "compare_df"
   ]
  },
  {
   "cell_type": "markdown",
   "metadata": {},
   "source": [
    "#### Code 7.27"
   ]
  },
  {
   "cell_type": "code",
   "execution_count": 39,
   "metadata": {},
   "outputs": [
    {
     "name": "stderr",
     "output_type": "stream",
     "text": [
      "c:\\Users\\User\\.conda\\envs\\my_bap3\\Lib\\site-packages\\arviz\\stats\\stats.py:1653: UserWarning: For one or more samples the posterior variance of the log predictive densities exceeds 0.4. This could be indication of WAIC starting to fail. \n",
      "See http://arxiv.org/abs/1507.04544 for details\n",
      "  warnings.warn(\n",
      "c:\\Users\\User\\.conda\\envs\\my_bap3\\Lib\\site-packages\\arviz\\stats\\stats.py:1653: UserWarning: For one or more samples the posterior variance of the log predictive densities exceeds 0.4. This could be indication of WAIC starting to fail. \n",
      "See http://arxiv.org/abs/1507.04544 for details\n",
      "  warnings.warn(\n"
     ]
    },
    {
     "data": {
      "text/plain": [
       "array(9.61406729)"
      ]
     },
     "execution_count": 39,
     "metadata": {},
     "output_type": "execute_result"
    }
   ],
   "source": [
    "waic_m_6_7 = az.waic(m_6_7_trace, pointwise=True, scale=\"deviance\")\n",
    "waic_m_6_8 = az.waic(m_6_8_trace, pointwise=True, scale=\"deviance\")\n",
    "\n",
    "# pointwise values are stored in the waic_i attribute.\n",
    "diff_m_6_7_m_6_8 = waic_m_6_7.waic_i - waic_m_6_8.waic_i\n",
    "\n",
    "n = len(diff_m_6_7_m_6_8)\n",
    "\n",
    "np.sqrt(n * np.var(diff_m_6_7_m_6_8)).values"
   ]
  },
  {
   "cell_type": "markdown",
   "metadata": {},
   "source": [
    "#### Code 7.28"
   ]
  },
  {
   "cell_type": "code",
   "execution_count": 40,
   "metadata": {},
   "outputs": [
    {
     "data": {
      "text/plain": [
       "array([12.96, 67.04])"
      ]
     },
     "execution_count": 40,
     "metadata": {},
     "output_type": "execute_result"
    }
   ],
   "source": [
    "40.0 + np.array([-1, 1]) * 10.4 * 2.6"
   ]
  },
  {
   "cell_type": "markdown",
   "metadata": {},
   "source": [
    "#### Code 7.29"
   ]
  },
  {
   "cell_type": "code",
   "execution_count": 41,
   "metadata": {},
   "outputs": [
    {
     "data": {
      "image/png": "[encoded data removed]",
      "text/plain": [
       "<Figure size 600x300 with 1 Axes>"
      ]
     },
     "metadata": {},
     "output_type": "display_data"
    }
   ],
   "source": [
    "az.plot_compare(compare_df);"
   ]
  },
  {
   "cell_type": "markdown",
   "metadata": {},
   "source": [
    "#### Code 7.30"
   ]
  },
  {
   "cell_type": "code",
   "execution_count": 42,
   "metadata": {},
   "outputs": [
    {
     "name": "stderr",
     "output_type": "stream",
     "text": [
      "c:\\Users\\User\\.conda\\envs\\my_bap3\\Lib\\site-packages\\arviz\\stats\\stats.py:1653: UserWarning: For one or more samples the posterior variance of the log predictive densities exceeds 0.4. This could be indication of WAIC starting to fail. \n",
      "See http://arxiv.org/abs/1507.04544 for details\n",
      "  warnings.warn(\n"
     ]
    },
    {
     "data": {
      "text/plain": [
       "array(9.58793717)"
      ]
     },
     "execution_count": 42,
     "metadata": {},
     "output_type": "execute_result"
    }
   ],
   "source": [
    "waic_m_6_6 = az.waic(m_6_6_trace, pointwise=True, scale=\"deviance\")\n",
    "\n",
    "diff_m6_6_m6_8 = waic_m_6_6.waic_i - waic_m_6_8.waic_i\n",
    "\n",
    "n = len(diff_m6_6_m6_8)\n",
    "\n",
    "np.sqrt(n * np.var(diff_m6_6_m6_8)).values"
   ]
  },
  {
   "cell_type": "markdown",
   "metadata": {},
   "source": [
    "#### Code 7.31\n",
    "\n",
    "dSE is calculated by compare above, but `rethinking` produces a pairwise comparison. This is not implemented in `arviz`, but we can hack it together:"
   ]
  },
  {
   "cell_type": "code",
   "execution_count": 43,
   "metadata": {},
   "outputs": [
    {
     "name": "stderr",
     "output_type": "stream",
     "text": [
      "c:\\Users\\User\\.conda\\envs\\my_bap3\\Lib\\site-packages\\arviz\\stats\\stats.py:1653: UserWarning: For one or more samples the posterior variance of the log predictive densities exceeds 0.4. This could be indication of WAIC starting to fail. \n",
      "See http://arxiv.org/abs/1507.04544 for details\n",
      "  warnings.warn(\n",
      "c:\\Users\\User\\.conda\\envs\\my_bap3\\Lib\\site-packages\\arviz\\stats\\stats.py:1653: UserWarning: For one or more samples the posterior variance of the log predictive densities exceeds 0.4. This could be indication of WAIC starting to fail. \n",
      "See http://arxiv.org/abs/1507.04544 for details\n",
      "  warnings.warn(\n",
      "c:\\Users\\User\\.conda\\envs\\my_bap3\\Lib\\site-packages\\arviz\\stats\\stats.py:1653: UserWarning: For one or more samples the posterior variance of the log predictive densities exceeds 0.4. This could be indication of WAIC starting to fail. \n",
      "See http://arxiv.org/abs/1507.04544 for details\n",
      "  warnings.warn(\n",
      "c:\\Users\\User\\.conda\\envs\\my_bap3\\Lib\\site-packages\\arviz\\stats\\stats.py:1653: UserWarning: For one or more samples the posterior variance of the log predictive densities exceeds 0.4. This could be indication of WAIC starting to fail. \n",
      "See http://arxiv.org/abs/1507.04544 for details\n",
      "  warnings.warn(\n",
      "c:\\Users\\User\\.conda\\envs\\my_bap3\\Lib\\site-packages\\arviz\\stats\\stats.py:1653: UserWarning: For one or more samples the posterior variance of the log predictive densities exceeds 0.4. This could be indication of WAIC starting to fail. \n",
      "See http://arxiv.org/abs/1507.04544 for details\n",
      "  warnings.warn(\n"
     ]
    },
    {
     "data": {
      "text/html": [
       "<div>\n",
       "<style scoped>\n",
       "    .dataframe tbody tr th:only-of-type {\n",
       "        vertical-align: middle;\n",
       "    }\n",
       "\n",
       "    .dataframe tbody tr th {\n",
       "        vertical-align: top;\n",
       "    }\n",
       "\n",
       "    .dataframe thead th {\n",
       "        text-align: right;\n",
       "    }\n",
       "</style>\n",
       "<table border=\"1\" class=\"dataframe\">\n",
       "  <thead>\n",
       "    <tr style=\"text-align: right;\">\n",
       "      <th></th>\n",
       "      <th>m_6_7</th>\n",
       "      <th>m_6_8</th>\n",
       "    </tr>\n",
       "  </thead>\n",
       "  <tbody>\n",
       "    <tr>\n",
       "      <th>m_6_8</th>\n",
       "      <td>9.614067</td>\n",
       "      <td>0.000000</td>\n",
       "    </tr>\n",
       "    <tr>\n",
       "      <th>m_6_6</th>\n",
       "      <td>13.386035</td>\n",
       "      <td>9.587937</td>\n",
       "    </tr>\n",
       "  </tbody>\n",
       "</table>\n",
       "</div>"
      ],
      "text/plain": [
       "           m_6_7     m_6_8\n",
       "m_6_8   9.614067  0.000000\n",
       "m_6_6  13.386035  9.587937"
      ]
     },
     "execution_count": 43,
     "metadata": {},
     "output_type": "execute_result"
    }
   ],
   "source": [
    "dataset_dict = {\"m_6_6\": m_6_6_trace, \"m_6_7\": m_6_7_trace, \"m_6_8\": m_6_8_trace}\n",
    "\n",
    "# compare all models\n",
    "s0 = az.compare(dataset_dict, ic=\"waic\", scale=\"deviance\")[\"dse\"]\n",
    "# the output compares each model to the 'best' model - i.e. two models are compared to one.\n",
    "# to complete a pair-wise comparison we need to compare the remaining two models.\n",
    "\n",
    "# to do this, remove the 'best' model from the input data\n",
    "del dataset_dict[s0.index[0]]\n",
    "\n",
    "# re-run compare with the remaining two models\n",
    "s1 = az.compare(dataset_dict, ic=\"waic\", scale=\"deviance\")[\"dse\"]\n",
    "\n",
    "# s0 compares two models to one model, and s1 compares the remaining two models to each other\n",
    "# now we just nee to wrangle them together!\n",
    "\n",
    "# convert them both to dataframes, setting the name to the 'best' model in each `compare` output.\n",
    "# (i.e. the name is the model that others are compared to)\n",
    "df_0 = s0.to_frame(name=s0.index[0])\n",
    "df_1 = s1.to_frame(name=s1.index[0])\n",
    "\n",
    "# merge these dataframes to create a pairwise comparison\n",
    "pd.merge(df_0, df_1, left_index=True, right_index=True)"
   ]
  },
  {
   "cell_type": "markdown",
   "metadata": {},
   "source": [
    "**Note:** this work for three models, but will get increasingly hack-y with additional models. The function below can be applied to *n* models:"
   ]
  },
  {
   "cell_type": "code",
   "execution_count": 44,
   "metadata": {},
   "outputs": [],
   "source": [
    "def pairwise_compare(dataset_dict, metric=\"dse\", **kwargs):\n",
    "    \"\"\"\n",
    "    Calculate pairwise comparison of models in dataset_dict.\n",
    "\n",
    "    Parameters\n",
    "    ----------\n",
    "    dataset_dict : dict\n",
    "        A dict containing two ore more {'name': pymc.backends.base.MultiTrace}\n",
    "        items.\n",
    "    metric : str\n",
    "        The name of the matric to be calculated. Can be any valid column output\n",
    "        by `arviz.compare`. Note that this may change depending on the **kwargs\n",
    "        that are specified.\n",
    "    kwargs\n",
    "        Arguments passed to `arviz.compare`\n",
    "    \"\"\"\n",
    "    data_dict = dataset_dict.copy()\n",
    "    dicts = []\n",
    "\n",
    "    while len(data_dict) > 1:\n",
    "        c = az.compare(data_dict, **kwargs)[metric]\n",
    "        dicts.append(c.to_frame(name=c.index[0]))\n",
    "        del data_dict[c.index[0]]\n",
    "\n",
    "    return pd.concat(dicts, axis=1)"
   ]
  },
  {
   "cell_type": "code",
   "execution_count": 45,
   "metadata": {},
   "outputs": [
    {
     "name": "stderr",
     "output_type": "stream",
     "text": [
      "c:\\Users\\User\\.conda\\envs\\my_bap3\\Lib\\site-packages\\arviz\\stats\\stats.py:1653: UserWarning: For one or more samples the posterior variance of the log predictive densities exceeds 0.4. This could be indication of WAIC starting to fail. \n",
      "See http://arxiv.org/abs/1507.04544 for details\n",
      "  warnings.warn(\n",
      "c:\\Users\\User\\.conda\\envs\\my_bap3\\Lib\\site-packages\\arviz\\stats\\stats.py:1653: UserWarning: For one or more samples the posterior variance of the log predictive densities exceeds 0.4. This could be indication of WAIC starting to fail. \n",
      "See http://arxiv.org/abs/1507.04544 for details\n",
      "  warnings.warn(\n",
      "c:\\Users\\User\\.conda\\envs\\my_bap3\\Lib\\site-packages\\arviz\\stats\\stats.py:1653: UserWarning: For one or more samples the posterior variance of the log predictive densities exceeds 0.4. This could be indication of WAIC starting to fail. \n",
      "See http://arxiv.org/abs/1507.04544 for details\n",
      "  warnings.warn(\n",
      "c:\\Users\\User\\.conda\\envs\\my_bap3\\Lib\\site-packages\\arviz\\stats\\stats.py:1653: UserWarning: For one or more samples the posterior variance of the log predictive densities exceeds 0.4. This could be indication of WAIC starting to fail. \n",
      "See http://arxiv.org/abs/1507.04544 for details\n",
      "  warnings.warn(\n",
      "c:\\Users\\User\\.conda\\envs\\my_bap3\\Lib\\site-packages\\arviz\\stats\\stats.py:1653: UserWarning: For one or more samples the posterior variance of the log predictive densities exceeds 0.4. This could be indication of WAIC starting to fail. \n",
      "See http://arxiv.org/abs/1507.04544 for details\n",
      "  warnings.warn(\n"
     ]
    },
    {
     "data": {
      "text/html": [
       "<div>\n",
       "<style scoped>\n",
       "    .dataframe tbody tr th:only-of-type {\n",
       "        vertical-align: middle;\n",
       "    }\n",
       "\n",
       "    .dataframe tbody tr th {\n",
       "        vertical-align: top;\n",
       "    }\n",
       "\n",
       "    .dataframe thead th {\n",
       "        text-align: right;\n",
       "    }\n",
       "</style>\n",
       "<table border=\"1\" class=\"dataframe\">\n",
       "  <thead>\n",
       "    <tr style=\"text-align: right;\">\n",
       "      <th></th>\n",
       "      <th>m_6_7</th>\n",
       "      <th>m_6_8</th>\n",
       "    </tr>\n",
       "  </thead>\n",
       "  <tbody>\n",
       "    <tr>\n",
       "      <th>m_6_7</th>\n",
       "      <td>0.000000</td>\n",
       "      <td>NaN</td>\n",
       "    </tr>\n",
       "    <tr>\n",
       "      <th>m_6_8</th>\n",
       "      <td>9.614067</td>\n",
       "      <td>0.000000</td>\n",
       "    </tr>\n",
       "    <tr>\n",
       "      <th>m_6_6</th>\n",
       "      <td>13.386035</td>\n",
       "      <td>9.587937</td>\n",
       "    </tr>\n",
       "  </tbody>\n",
       "</table>\n",
       "</div>"
      ],
      "text/plain": [
       "           m_6_7     m_6_8\n",
       "m_6_7   0.000000       NaN\n",
       "m_6_8   9.614067  0.000000\n",
       "m_6_6  13.386035  9.587937"
      ]
     },
     "execution_count": 45,
     "metadata": {},
     "output_type": "execute_result"
    }
   ],
   "source": [
    "dataset_dict = {\"m_6_6\": m_6_6_trace, \"m_6_7\": m_6_7_trace, \"m_6_8\": m_6_8_trace}\n",
    "\n",
    "pairwise_compare(dataset_dict, metric=\"dse\", ic=\"waic\", scale=\"deviance\")"
   ]
  },
  {
   "cell_type": "markdown",
   "metadata": {},
   "source": [
    "#### Code 7.32"
   ]
  },
  {
   "cell_type": "code",
   "execution_count": 46,
   "metadata": {},
   "outputs": [],
   "source": [
    "d = pd.read_csv(\"Data/WaffleDivorce.csv\", delimiter=\";\")\n",
    "\n",
    "d[\"A\"] = stats.zscore(d[\"MedianAgeMarriage\"])\n",
    "d[\"D\"] = stats.zscore(d[\"Divorce\"])\n",
    "d[\"M\"] = stats.zscore(d[\"Marriage\"])"
   ]
  },
  {
   "cell_type": "code",
   "execution_count": 49,
   "metadata": {},
   "outputs": [
    {
     "name": "stderr",
     "output_type": "stream",
     "text": [
      "Auto-assigning NUTS sampler...\n",
      "Initializing NUTS using jitter+adapt_diag...\n",
      "Multiprocess sampling (4 chains in 4 jobs)\n",
      "NUTS: [a, bA, sigma]\n"
     ]
    },
    {
     "data": {
      "application/vnd.jupyter.widget-view+json": {
       "model_id": "c1c75b68227f48228b603757d81e780b",
       "version_major": 2,
       "version_minor": 0
      },
      "text/plain": [
       "Output()"
      ]
     },
     "metadata": {},
     "output_type": "display_data"
    },
    {
     "data": {
      "text/html": [
       "<pre style=\"white-space:pre;overflow-x:auto;line-height:normal;font-family:Menlo,'DejaVu Sans Mono',consolas,'Courier New',monospace\"></pre>\n"
      ],
      "text/plain": []
     },
     "metadata": {},
     "output_type": "display_data"
    },
    {
     "name": "stderr",
     "output_type": "stream",
     "text": [
      "Sampling 4 chains for 1_000 tune and 1_000 draw iterations (4_000 + 4_000 draws total) took 21 seconds.\n",
      "Auto-assigning NUTS sampler...\n",
      "Initializing NUTS using jitter+adapt_diag...\n",
      "Multiprocess sampling (4 chains in 4 jobs)\n",
      "NUTS: [a, bM, sigma]\n"
     ]
    },
    {
     "data": {
      "application/vnd.jupyter.widget-view+json": {
       "model_id": "b06f3d09478a4defa135332056b03fbe",
       "version_major": 2,
       "version_minor": 0
      },
      "text/plain": [
       "Output()"
      ]
     },
     "metadata": {},
     "output_type": "display_data"
    },
    {
     "data": {
      "text/html": [
       "<pre style=\"white-space:pre;overflow-x:auto;line-height:normal;font-family:Menlo,'DejaVu Sans Mono',consolas,'Courier New',monospace\"></pre>\n"
      ],
      "text/plain": []
     },
     "metadata": {},
     "output_type": "display_data"
    },
    {
     "name": "stderr",
     "output_type": "stream",
     "text": [
      "Sampling 4 chains for 1_000 tune and 1_000 draw iterations (4_000 + 4_000 draws total) took 22 seconds.\n",
      "Auto-assigning NUTS sampler...\n",
      "Initializing NUTS using jitter+adapt_diag...\n",
      "Multiprocess sampling (4 chains in 4 jobs)\n",
      "NUTS: [a, bA, bM, sigma]\n"
     ]
    },
    {
     "data": {
      "application/vnd.jupyter.widget-view+json": {
       "model_id": "23c59b973b734a9ebde56ef256db89d9",
       "version_major": 2,
       "version_minor": 0
      },
      "text/plain": [
       "Output()"
      ]
     },
     "metadata": {},
     "output_type": "display_data"
    },
    {
     "data": {
      "text/html": [
       "<pre style=\"white-space:pre;overflow-x:auto;line-height:normal;font-family:Menlo,'DejaVu Sans Mono',consolas,'Courier New',monospace\"></pre>\n"
      ],
      "text/plain": []
     },
     "metadata": {},
     "output_type": "display_data"
    },
    {
     "name": "stderr",
     "output_type": "stream",
     "text": [
      "Sampling 4 chains for 1_000 tune and 1_000 draw iterations (4_000 + 4_000 draws total) took 22 seconds.\n"
     ]
    }
   ],
   "source": [
    "with pm.Model() as m_5_1:\n",
    "    a = pm.Normal(\"a\", 0, 0.2)\n",
    "    bA = pm.Normal(\"bA\", 0, 0.5)\n",
    "\n",
    "    mu = a + bA * d[\"A\"].values\n",
    "    sigma = pm.Exponential(\"sigma\", 1)\n",
    "\n",
    "    D = pm.Normal(\"D\", mu, sigma, observed=d[\"D\"].values)\n",
    "\n",
    "    m_5_1_trace = pm.sample(return_inferencedata=True, idata_kwargs={\"log_likelihood\": True})\n",
    "\n",
    "with pm.Model() as m_5_2:\n",
    "    a = pm.Normal(\"a\", 0, 0.2)\n",
    "    bM = pm.Normal(\"bM\", 0, 0.5)\n",
    "\n",
    "    mu = a + bM * d[\"M\"].values\n",
    "    sigma = pm.Exponential(\"sigma\", 1)\n",
    "\n",
    "    D = pm.Normal(\"D\", mu, sigma, observed=d[\"D\"].values)\n",
    "\n",
    "    m_5_2_trace = pm.sample(return_inferencedata=True, idata_kwargs={\"log_likelihood\": True})\n",
    "\n",
    "with pm.Model() as m_5_3:\n",
    "    a = pm.Normal(\"a\", 0, 0.2)\n",
    "    bA = pm.Normal(\"bA\", 0, 0.5)\n",
    "    bM = pm.Normal(\"bM\", 0, 0.5)\n",
    "\n",
    "    mu = a + bA * d[\"A\"].values + bM * d[\"M\"].values\n",
    "    sigma = pm.Exponential(\"sigma\", 1)\n",
    "\n",
    "    D = pm.Normal(\"D\", mu, sigma, observed=d[\"D\"].values)\n",
    "\n",
    "    m_5_3_trace = pm.sample(return_inferencedata=True, idata_kwargs={\"log_likelihood\": True})"
   ]
  },
  {
   "cell_type": "markdown",
   "metadata": {},
   "source": [
    "#### Code 7.33"
   ]
  },
  {
   "cell_type": "code",
   "execution_count": 50,
   "metadata": {},
   "outputs": [
    {
     "data": {
      "text/html": [
       "<div>\n",
       "<style scoped>\n",
       "    .dataframe tbody tr th:only-of-type {\n",
       "        vertical-align: middle;\n",
       "    }\n",
       "\n",
       "    .dataframe tbody tr th {\n",
       "        vertical-align: top;\n",
       "    }\n",
       "\n",
       "    .dataframe thead th {\n",
       "        text-align: right;\n",
       "    }\n",
       "</style>\n",
       "<table border=\"1\" class=\"dataframe\">\n",
       "  <thead>\n",
       "    <tr style=\"text-align: right;\">\n",
       "      <th></th>\n",
       "      <th>rank</th>\n",
       "      <th>elpd_loo</th>\n",
       "      <th>p_loo</th>\n",
       "      <th>elpd_diff</th>\n",
       "      <th>weight</th>\n",
       "      <th>se</th>\n",
       "      <th>dse</th>\n",
       "      <th>warning</th>\n",
       "      <th>scale</th>\n",
       "    </tr>\n",
       "  </thead>\n",
       "  <tbody>\n",
       "    <tr>\n",
       "      <th>m_5_1</th>\n",
       "      <td>0</td>\n",
       "      <td>127.059301</td>\n",
       "      <td>3.772832</td>\n",
       "      <td>0.000000</td>\n",
       "      <td>8.920334e-01</td>\n",
       "      <td>12.830301</td>\n",
       "      <td>0.000000</td>\n",
       "      <td>False</td>\n",
       "      <td>deviance</td>\n",
       "    </tr>\n",
       "    <tr>\n",
       "      <th>m_5_3</th>\n",
       "      <td>1</td>\n",
       "      <td>128.518189</td>\n",
       "      <td>4.729942</td>\n",
       "      <td>1.458888</td>\n",
       "      <td>6.508102e-30</td>\n",
       "      <td>12.740818</td>\n",
       "      <td>0.777842</td>\n",
       "      <td>False</td>\n",
       "      <td>deviance</td>\n",
       "    </tr>\n",
       "    <tr>\n",
       "      <th>m_5_2</th>\n",
       "      <td>2</td>\n",
       "      <td>140.302785</td>\n",
       "      <td>2.943105</td>\n",
       "      <td>13.243485</td>\n",
       "      <td>1.079666e-01</td>\n",
       "      <td>9.872532</td>\n",
       "      <td>9.362359</td>\n",
       "      <td>False</td>\n",
       "      <td>deviance</td>\n",
       "    </tr>\n",
       "  </tbody>\n",
       "</table>\n",
       "</div>"
      ],
      "text/plain": [
       "       rank    elpd_loo     p_loo  elpd_diff        weight         se  \\\n",
       "m_5_1     0  127.059301  3.772832   0.000000  8.920334e-01  12.830301   \n",
       "m_5_3     1  128.518189  4.729942   1.458888  6.508102e-30  12.740818   \n",
       "m_5_2     2  140.302785  2.943105  13.243485  1.079666e-01   9.872532   \n",
       "\n",
       "            dse  warning     scale  \n",
       "m_5_1  0.000000    False  deviance  \n",
       "m_5_3  0.777842    False  deviance  \n",
       "m_5_2  9.362359    False  deviance  "
      ]
     },
     "execution_count": 50,
     "metadata": {},
     "output_type": "execute_result"
    }
   ],
   "source": [
    "az.compare(\n",
    "    {\"m_5_1\": m_5_1_trace, \"m_5_2\": m_5_2_trace, \"m_5_3\": m_5_3_trace},\n",
    "    scale=\"deviance\",\n",
    ")"
   ]
  },
  {
   "cell_type": "markdown",
   "metadata": {},
   "source": [
    "#### Code 7.34"
   ]
  },
  {
   "cell_type": "code",
   "execution_count": 51,
   "metadata": {},
   "outputs": [
    {
     "name": "stderr",
     "output_type": "stream",
     "text": [
      "c:\\Users\\User\\.conda\\envs\\my_bap3\\Lib\\site-packages\\arviz\\stats\\stats.py:1653: UserWarning: For one or more samples the posterior variance of the log predictive densities exceeds 0.4. This could be indication of WAIC starting to fail. \n",
      "See http://arxiv.org/abs/1507.04544 for details\n",
      "  warnings.warn(\n"
     ]
    },
    {
     "data": {
      "image/png": "[encoded data removed]",
      "text/plain": [
       "<Figure size 720x480 with 1 Axes>"
      ]
     },
     "metadata": {},
     "output_type": "display_data"
    }
   ],
   "source": [
    "psis_m_5_3 = az.loo(m_5_3_trace, pointwise=True, scale=\"deviance\")\n",
    "waic_m_5_3 = az.waic(m_5_3_trace, pointwise=True, scale=\"deviance\")\n",
    "\n",
    "# Figure 7.10\n",
    "plt.scatter(psis_m_5_3.pareto_k, waic_m_5_3.waic_i)\n",
    "plt.xlabel(\"PSIS Pareto k\")\n",
    "plt.ylabel(\"WAIC\");"
   ]
  },
  {
   "cell_type": "code",
   "execution_count": 52,
   "metadata": {},
   "outputs": [
    {
     "data": {
      "image/png": "[encoded data removed]",
      "text/plain": [
       "<Figure size 800x350 with 2 Axes>"
      ]
     },
     "metadata": {},
     "output_type": "display_data"
    }
   ],
   "source": [
    "# Figure 7.11\n",
    "\n",
    "v = np.linspace(-4, 4, 100)\n",
    "\n",
    "g = stats.norm(loc=0, scale=1)\n",
    "t = stats.t(df=2, loc=0, scale=1)\n",
    "\n",
    "fig, (ax, lax) = plt.subplots(1, 2, figsize=[8, 3.5])\n",
    "\n",
    "ax.plot(v, g.pdf(v), color=\"b\")\n",
    "ax.plot(v, t.pdf(v), color=\"k\")\n",
    "\n",
    "lax.plot(v, -g.logpdf(v), color=\"b\")\n",
    "lax.plot(v, -t.logpdf(v), color=\"k\");"
   ]
  },
  {
   "cell_type": "markdown",
   "metadata": {},
   "source": [
    "#### Code 7.35"
   ]
  },
  {
   "cell_type": "code",
   "execution_count": 55,
   "metadata": {},
   "outputs": [
    {
     "name": "stderr",
     "output_type": "stream",
     "text": [
      "Auto-assigning NUTS sampler...\n",
      "Initializing NUTS using jitter+adapt_diag...\n",
      "Multiprocess sampling (4 chains in 4 jobs)\n",
      "NUTS: [a, bA, bM, sigma]\n"
     ]
    },
    {
     "data": {
      "application/vnd.jupyter.widget-view+json": {
       "model_id": "e4d2915cabca47b38495500e6399e3da",
       "version_major": 2,
       "version_minor": 0
      },
      "text/plain": [
       "Output()"
      ]
     },
     "metadata": {},
     "output_type": "display_data"
    },
    {
     "data": {
      "text/html": [
       "<pre style=\"white-space:pre;overflow-x:auto;line-height:normal;font-family:Menlo,'DejaVu Sans Mono',consolas,'Courier New',monospace\"></pre>\n"
      ],
      "text/plain": []
     },
     "metadata": {},
     "output_type": "display_data"
    },
    {
     "name": "stderr",
     "output_type": "stream",
     "text": [
      "Sampling 4 chains for 1_000 tune and 1_000 draw iterations (4_000 + 4_000 draws total) took 22 seconds.\n"
     ]
    }
   ],
   "source": [
    "with pm.Model() as m_5_3t:\n",
    "    a = pm.Normal(\"a\", 0, 0.2)\n",
    "    bA = pm.Normal(\"bA\", 0, 0.5)\n",
    "    bM = pm.Normal(\"bM\", 0, 0.5)\n",
    "\n",
    "    mu = a + bA * d[\"A\"].values + bM * d[\"M\"].values\n",
    "    sigma = pm.Exponential(\"sigma\", 1)\n",
    "\n",
    "    D = pm.StudentT(\"D\", nu=2, mu=mu, sigma=sigma, observed=d[\"D\"].values)\n",
    "\n",
    "    m_5_3t_trace = pm.sample(return_inferencedata=True, idata_kwargs={\"log_likelihood\": True})"
   ]
  },
  {
   "cell_type": "code",
   "execution_count": 56,
   "metadata": {},
   "outputs": [
    {
     "data": {
      "text/plain": [
       "Computed from 4000 posterior samples and 50 observations log-likelihood matrix.\n",
       "\n",
       "             Estimate       SE\n",
       "deviance_loo   133.98    11.46\n",
       "p_loo            6.24        -\n",
       "------\n",
       "\n",
       "Pareto k diagnostic values:\n",
       "                         Count   Pct.\n",
       "(-Inf, 0.70]   (good)       50  100.0%\n",
       "   (0.70, 1]   (bad)         0    0.0%\n",
       "   (1, Inf)   (very bad)    0    0.0%"
      ]
     },
     "execution_count": 56,
     "metadata": {},
     "output_type": "execute_result"
    }
   ],
   "source": [
    "az.loo(m_5_3t_trace, pointwise=True, scale=\"deviance\")"
   ]
  },
  {
   "cell_type": "code",
   "execution_count": 57,
   "metadata": {},
   "outputs": [
    {
     "data": {
      "image/png": "[encoded data removed]",
      "text/plain": [
       "<Figure size 600x350 with 1 Axes>"
      ]
     },
     "metadata": {},
     "output_type": "display_data"
    }
   ],
   "source": [
    "az.plot_forest([m_5_3_trace, m_5_3t_trace], model_names=[\"m_5_3\", \"m_5_3t\"], figsize=[6, 3.5]);"
   ]
  },
  {
   "cell_type": "code",
   "execution_count": 58,
   "metadata": {},
   "outputs": [
    {
     "name": "stdout",
     "output_type": "stream",
     "text": [
      "Last updated: Wed Dec 11 2024\n",
      "\n",
      "Python implementation: CPython\n",
      "Python version       : 3.12.7\n",
      "IPython version      : 8.29.0\n",
      "\n",
      "statsmodels: 0.14.4\n",
      "pytensor   : 2.26.3\n",
      "arviz      : 0.20.0\n",
      "numpy      : 1.26.4\n",
      "patsy      : 1.0.1\n",
      "pymc       : 5.18.2\n",
      "tqdm       : 4.67.1\n",
      "scipy      : 1.12.0\n",
      "pandas     : 2.2.3\n",
      "logging    : 0.5.1.2\n",
      "matplotlib : 3.9.2\n",
      "\n",
      "Watermark: 2.5.0\n",
      "\n"
     ]
    }
   ],
   "source": [
    "%load_ext watermark\n",
    "%watermark -n -u -v -iv -w"
   ]
  }
 ],
 "metadata": {
  "kernelspec": {
   "display_name": "my_bap3",
   "language": "python",
   "name": "python3"
  },
  "language_info": {
   "codemirror_mode": {
    "name": "ipython",
    "version": 3
   },
   "file_extension": ".py",
   "mimetype": "text/x-python",
   "name": "python",
   "nbconvert_exporter": "python",
   "pygments_lexer": "ipython3",
   "version": "3.12.7"
  }
 },
 "nbformat": 4,
 "nbformat_minor": 4
}
